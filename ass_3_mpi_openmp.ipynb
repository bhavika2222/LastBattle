{
  "nbformat": 4,
  "nbformat_minor": 0,
  "metadata": {
    "colab": {
      "provenance": [],
      "authorship_tag": "ABX9TyOtgTepFcSOJeXHQ7lC2Jpd",
      "include_colab_link": true
    },
    "kernelspec": {
      "name": "python3",
      "display_name": "Python 3"
    },
    "language_info": {
      "name": "python"
    }
  },
  "cells": [
    {
      "cell_type": "markdown",
      "metadata": {
        "id": "view-in-github",
        "colab_type": "text"
      },
      "source": [
        "<a href=\"https://colab.research.google.com/github/bhavika2222/LastBattle/blob/main/ass_3_mpi_openmp.ipynb\" target=\"_parent\"><img src=\"https://colab.research.google.com/assets/colab-badge.svg\" alt=\"Open In Colab\"/></a>"
      ]
    },
    {
      "cell_type": "markdown",
      "source": [
        "Develop a distributed system, to find sum of N elements in an array by distributing N/n elements to n number of processors MPI or OpenMP."
      ],
      "metadata": {
        "id": "cruIWYPj9bKK"
      }
    },
    {
      "cell_type": "markdown",
      "source": [
        "1. Download openmpi-4.1.4.tar.bz2 from http://www.open-mpi.org in a folder say LP5.\n",
        "2. Goto the terminal (Command prompt)\n",
        "3. update using\tsudo apt-get update\n",
        "     sudo apt install gcc {if not already installed}\n",
        "4. Goto the directory which contains the downloaded file\n",
        "5. Extract the files using \ttar -jxf openmpi-4.1.4.tar.bz2\n",
        "   6. The directory openmpi-4.1.4 is created\n",
        "7. Configure, compile and install by executing the following commands\n",
        "    ./configure --prefix=$HOME/opt/openmpi\n",
        "     make all\n",
        "     make install\n",
        "8. Now openmpi folder is created in ‘opt‘ folder of Home directory.\n",
        "9. Now the folder LP5 can be deleted (optional)\n",
        "10. Update the PATH and LD_LIBRARY_PATH environment variable using\n",
        "     echo \"export PATH=\\$PATH:\\$HOME/opt/openmpi/bin\" >> $HOME/.bashrc\n",
        "     echo \"export    LD_LIBRARY_PATH=\\$LD_LIBRARY_PATH:\\$HOME/opt/openmpi/lib\">>$HOME/.bashrc\n"
      ],
      "metadata": {
        "id": "c8TcStXaATMc"
      }
    },
    {
      "cell_type": "markdown",
      "source": [
        "create a file in text editor and save it as hello.c\n"
      ],
      "metadata": {
        "id": "ZBgw8NDgAynv"
      }
    },
    {
      "cell_type": "code",
      "source": [
        "#include <stdio.h>\n",
        "#include \"mpi.h\"\n",
        "int main(int argc, char* argv[])\n",
        "{\n",
        "int rank, size, len;\n",
        "MPI_Init(&argc, &argv);\n",
        "MPI_Comm_rank(MPI_COMM_WORLD, &rank);\n",
        "MPI_Comm_size(MPI_COMM_WORLD, &size);\n",
        "printf(\"Hello, world, I am %d of %d\\n\",rank, size);\n",
        "MPI_Finalize();\n",
        "return 0;\n",
        "}"
      ],
      "metadata": {
        "id": "sWoAIwLlA4ba"
      },
      "execution_count": null,
      "outputs": []
    },
    {
      "cell_type": "markdown",
      "source": [
        "**create a file in text editor and save it as world.c**\n"
      ],
      "metadata": {
        "id": "oFEpVfiUBom-"
      }
    },
    {
      "cell_type": "code",
      "source": [
        "\n",
        "#include <stdio.h>\n",
        "#include \"mpi.h\"\n",
        "int main(int argc, char* argv[])\n",
        "{\n",
        "int rank, size;\n",
        "int num[20]; //N=20, n=4\n",
        "MPI_Init(&argc, &argv);\n",
        "MPI_Comm_rank(MPI_COMM_WORLD, &rank);\n",
        "MPI_Comm_size(MPI_COMM_WORLD, &size);\n",
        "for(int i=0;i<20;i++)\n",
        "num[i]=i+1;\n",
        "if(rank == 0){\n",
        "int s[4];\n",
        "printf(\"Distribution at rank %d \\n\", rank);\n",
        "for(int i=1;i<4;i++)\n",
        "MPI_Send(&num[i*5], 5, MPI_INT, i, 1, MPI_COMM_WORLD); //N/n i.e. 20/4=5\n",
        "int sum=0, local_sum=0;\n",
        "for(int i=0;i<5;i++)\n",
        "{\n",
        "local_sum=local_sum+num[i];\n",
        "}\n",
        "for(int i=1;i<4;i++)\n",
        "{\n",
        "MPI_Recv(&s[i], 1, MPI_INT, i, 1, MPI_COMM_WORLD, MPI_STATUS_IGNORE);\n",
        "}\n",
        "printf(\"local sum at rank %d is %d\\n\", rank,local_sum);\n",
        "sum=local_sum;\n",
        "for(int i=1;i<4;i++)\n",
        "sum=sum+s[i];\n",
        "printf(\"final sum = %d\\n\\n\",sum);\n",
        "} else {\n",
        "int k[5];\n",
        "MPI_Recv(k, 5, MPI_INT, 0, 1, MPI_COMM_WORLD, MPI_STATUS_IGNORE);\n",
        "int local_sum=0;\n",
        "for(int i=0;i<5;i++)\n",
        "{\n",
        "local_sum=local_sum+k[i];\n",
        "}\n",
        "printf(\"local sum at rank %d is %d\\n\", rank, local_sum);\n",
        "MPI_Send(&local_sum, 1, MPI_INT, 0, 1, MPI_COMM_WORLD);\n",
        "}\n",
        "MPI_Finalize();\n",
        "return 0;\n",
        "}"
      ],
      "metadata": {
        "id": "WEFYgkOiB3FU"
      },
      "execution_count": null,
      "outputs": []
    },
    {
      "cell_type": "markdown",
      "source": [
        "**create a file in text editor and save it as world1.c**"
      ],
      "metadata": {
        "id": "JBTsM20sCNPG"
      }
    },
    {
      "cell_type": "code",
      "source": [
        "#include <stdio.h>\n",
        "#include \"mpi.h\"\n",
        "int main(int argc, char* argv[])\n",
        "{\n",
        "int rank, size, len;\n",
        "int num=10;\n",
        "MPI_Init(&argc, &argv);\n",
        "MPI_Comm_rank(MPI_COMM_WORLD, &rank);\n",
        "MPI_Comm_size(MPI_COMM_WORLD, &size);\n",
        "if(rank == 0)\n",
        "{\n",
        "printf(\"Sending message containing: %d from rank %d\\n\", num,rank);\n",
        "MPI_Send(&num, 1, MPI_INT, 1, 1, MPI_COMM_WORLD);\n",
        "}\n",
        "else\n",
        "{\n",
        "printf(\" at rank %d\\n\",rank);\n",
        "MPI_Recv(&num, 1, MPI_INT, 0, 1, MPI_COMM_WORLD, MPI_STATUS_IGNORE);\n",
        "printf(\"Received message containing: %d at rank %d\\n\", num,rank);\n",
        "}\n",
        "MPI_Finalize();\n",
        "return 0;\n",
        "}\n"
      ],
      "metadata": {
        "id": "tRPhfaVNCYTd"
      },
      "execution_count": null,
      "outputs": []
    },
    {
      "cell_type": "markdown",
      "source": [
        "how to run:\n",
        "\n",
        "1.mpicc hello.c\n",
        "2.mpirun -np 0 ./a.out\n",
        "\n",
        "\n",
        "3.mpicc world1.c\n",
        "4.mpirun -np 0 ./a.out\n",
        "\n",
        "5.mpicc world.c\n",
        "6.mpirun -np 0 ./a.out\n",
        "\n",
        "\n",
        "\n",
        "If it doesnt work with 0 try it with 4"
      ],
      "metadata": {
        "id": "qTAGBzk5CeJE"
      }
    }
  ]
}