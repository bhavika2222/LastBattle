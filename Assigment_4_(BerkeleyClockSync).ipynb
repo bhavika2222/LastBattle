{
  "nbformat": 4,
  "nbformat_minor": 0,
  "metadata": {
    "colab": {
      "provenance": [],
      "authorship_tag": "ABX9TyPnrJMC/70qHDy3nUhyKcZA",
      "include_colab_link": true
    },
    "kernelspec": {
      "name": "python3",
      "display_name": "Python 3"
    },
    "language_info": {
      "name": "python"
    }
  },
  "cells": [
    {
      "cell_type": "markdown",
      "metadata": {
        "id": "view-in-github",
        "colab_type": "text"
      },
      "source": [
        "<a href=\"https://colab.research.google.com/github/bhavika2222/LastBattle/blob/main/Assigment_4_(BerkeleyClockSync).ipynb\" target=\"_parent\"><img src=\"https://colab.research.google.com/assets/colab-badge.svg\" alt=\"Open In Colab\"/></a>"
      ]
    },
    {
      "cell_type": "markdown",
      "source": [
        "Write a program to implement Berkeley Clock Synchronization."
      ],
      "metadata": {
        "id": "Sgt9itfP7fzO"
      }
    },
    {
      "cell_type": "markdown",
      "source": [
        "Save Below code as BerkeleyClockSync.java"
      ],
      "metadata": {
        "id": "Cj5AfLcMBPPM"
      }
    },
    {
      "cell_type": "code",
      "source": [
        "import java.util.ArrayList;\n",
        "public class BerkeleyClockSync {\n",
        "public static void main(String[] args) {\n",
        "// Initialize the system clocks\n",
        "int[] systemClocks = { 10, 12, 13, 11, 14 };\n",
        "int masterClock = 0;\n",
        "// Print the initial system clocks\n",
        "System.out.print(\"System clocks: \");\n",
        "for (int clock : systemClocks) {\n",
        "System.out.print(clock + \" \");\n",
        "}\n",
        "System.out.println();\n",
        "// Calculate the average system clock\n",
        "int sum = 0;\n",
        "for (int clock : systemClocks) {\n",
        "sum += clock;\n",
        "}\n",
        "int averageClock = sum / systemClocks.length;\n",
        "// Calculate the time difference for each system clock\n",
        "ArrayList<Integer> timeDifferences = new ArrayList<>();\n",
        "for (int clock : systemClocks) {\n",
        "timeDifferences.add(averageClock - clock);\n",
        "}\n",
        "// Calculate the time adjustment for the master clock\n",
        "int timeAdjustment = 0;\n",
        "for (int difference : timeDifferences) {\n",
        "timeAdjustment += difference;\n",
        "}\n",
        "timeAdjustment /= timeDifferences.size();\n",
        "// Update the master clock\n",
        "masterClock = averageClock - timeAdjustment;\n",
        "// Print the updated system clocks and master clock\n",
        "System.out.print(\"Updated system clocks: \");\n",
        "for (int clock : systemClocks) {\n",
        "System.out.print((clock - timeAdjustment) + \" \");\n",
        "}\n",
        "System.out.println();\n",
        "System.out.println(\"Master clock: \" + masterClock);\n",
        "}\n",
        "}"
      ],
      "metadata": {
        "id": "eIESkU_UBQnb"
      },
      "execution_count": null,
      "outputs": []
    },
    {
      "cell_type": "markdown",
      "source": [
        "Console 1\n",
        " javac BerkeleyClockSync.java\n",
        "  java BerkeleyClockSync"
      ],
      "metadata": {
        "id": "eyVIBlYcBV4j"
      }
    }
  ]
}