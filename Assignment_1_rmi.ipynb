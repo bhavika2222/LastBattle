{
  "nbformat": 4,
  "nbformat_minor": 0,
  "metadata": {
    "colab": {
      "provenance": [],
      "authorship_tag": "ABX9TyMGP/qohsFwN8hkL11tccv9",
      "include_colab_link": true
    },
    "kernelspec": {
      "name": "python3",
      "display_name": "Python 3"
    },
    "language_info": {
      "name": "python"
    }
  },
  "cells": [
    {
      "cell_type": "markdown",
      "metadata": {
        "id": "view-in-github",
        "colab_type": "text"
      },
      "source": [
        "<a href=\"https://colab.research.google.com/github/bhavika2222/LastBattle/blob/main/Assignment_1_rmi.ipynb\" target=\"_parent\"><img src=\"https://colab.research.google.com/assets/colab-badge.svg\" alt=\"Open In Colab\"/></a>"
      ]
    },
    {
      "cell_type": "markdown",
      "source": [
        "IMPLEMENT MULTITHREADED CLIENT-SERVER PROCESS COMMUNICATION USING RMI(REMOTE METHOD INVOCATION)"
      ],
      "metadata": {
        "id": "U-bk5NgtXdJC"
      }
    },
    {
      "cell_type": "markdown",
      "source": [
        "A java program for Search\n",
        "\n",
        "SAVE AS: Search.java"
      ],
      "metadata": {
        "id": "KQMYsbB5luGg"
      }
    },
    {
      "cell_type": "code",
      "source": [
        "import java.rmi.*;\n",
        "public interface Search extends Remote  {\n",
        "// Declaring the method prototype\n",
        "public String query(String search) throws\n",
        "RemoteException;\n",
        "}"
      ],
      "metadata": {
        "id": "lSUZFiLAmAQJ"
      },
      "execution_count": null,
      "outputs": []
    },
    {
      "cell_type": "markdown",
      "source": [
        "A java program for Search\n",
        "\n",
        "SAVE AS: SearchQuery.java"
      ],
      "metadata": {
        "id": "4wc_NDRxmdtr"
      }
    },
    {
      "cell_type": "code",
      "source": [
        "import java.rmi.*;\n",
        "import java.rmi.server.*;\n",
        "public class SearchQuery extends RemoteObject\n",
        "implements Search\n",
        "{\n",
        "\n",
        "// Implementation of the query interface\n",
        "public String query(String search)\n",
        "throws RemoteException\n",
        "{\n",
        "String result;\n",
        "if (search.equals(\"Reflection in Java\"))\n",
        "result = \"Found\";\n",
        "else\n",
        "result = \"Not Found\";\n",
        "return result; } }"
      ],
      "metadata": {
        "id": "wDRs9hCtmkbu"
      },
      "execution_count": null,
      "outputs": []
    },
    {
      "cell_type": "markdown",
      "source": [
        "A Java program for a Server\n",
        "\n",
        "SAVE AS: SERVER.JAVA"
      ],
      "metadata": {
        "id": "eUTWAZqZYPoI"
      }
    },
    {
      "cell_type": "code",
      "source": [
        "\n",
        "import java.net.*;\n",
        "import java.io.*;\n",
        "\n",
        "public class Server\n",
        "{\n",
        "\t//initialize socket and input stream\n",
        "\tprivate Socket\t\t socket = null;\n",
        "\tprivate ServerSocket server = null;\n",
        "\tprivate DataInputStream in\t = null;\n",
        "\n",
        "\t// constructor with port\n",
        "\tpublic Server(int port)\n",
        "\t{\n",
        "\t\t// starts server and waits for a connection\n",
        "\t\ttry\n",
        "\t\t{\n",
        "\t\t\tserver = new ServerSocket(port);\n",
        "\t\t\tSystem.out.println(\"Server started\");\n",
        "\n",
        "\t\t\tSystem.out.println(\"Waiting for a client ...\");\n",
        "\n",
        "\t\t\tsocket = server.accept();\n",
        "\t\t\tSystem.out.println(\"Client accepted\");\n",
        "\n",
        "\t\t\t// takes input from the client socket\n",
        "\t\t\tin = new DataInputStream(\n",
        "\t\t\t\tnew BufferedInputStream(socket.getInputStream()));\n",
        "\n",
        "\t\t\tString line = \"\";\n",
        "\n",
        "\t\t\t// reads message from client until \"Over\" is sent\n",
        "\t\t\twhile (!line.equals(\"Over\"))\n",
        "\t\t\t{\n",
        "\t\t\t\ttry\n",
        "\t\t\t\t{\n",
        "\t\t\t\t\tline = in.readUTF();\n",
        "\t\t\t\t\tSystem.out.println(line);\n",
        "\n",
        "\t\t\t\t}\n",
        "\t\t\t\tcatch(IOException i)\n",
        "\t\t\t\t{\n",
        "\t\t\t\t\tSystem.out.println(i);\n",
        "\t\t\t\t}\n",
        "\t\t\t}\n",
        "\t\t\tSystem.out.println(\"Closing connection\");\n",
        "\n",
        "\t\t\t// close connection\n",
        "\t\t\tsocket.close();\n",
        "\t\t\tin.close();\n",
        "\t\t}\n",
        "\t\tcatch(IOException i)\n",
        "\t\t{\n",
        "\t\t\tSystem.out.println(i);\n",
        "\t\t}\n",
        "\t}\n",
        "\n",
        "\tpublic static void main(String args[])\n",
        "\t{\n",
        "\t\tServer server = new Server(5000);\n",
        "\t}\n",
        "}\n",
        "\n"
      ],
      "metadata": {
        "id": "Ib-CusslYIdy"
      },
      "execution_count": null,
      "outputs": []
    },
    {
      "cell_type": "markdown",
      "source": [
        "A Java program for a Client\n",
        "\n",
        "SAVE AS: CLIENT.JAVA"
      ],
      "metadata": {
        "id": "7YGaTGPzYmBD"
      }
    },
    {
      "cell_type": "code",
      "source": [
        "\n",
        "import java.io.*;\n",
        "import java.net.*;\n",
        "\n",
        "public class Client {\n",
        "\t// initialize socket and input output streams\n",
        "\tprivate Socket socket = null;\n",
        "\tprivate BufferedReader d = null;\n",
        "\tprivate InputStream input = null;\n",
        "\tprivate DataOutputStream out = null;\n",
        "\n",
        "\t// constructor to put ip address and port\n",
        "\tpublic Client(String address, int port)\n",
        "\t{\n",
        "\t\t// establish a connection\n",
        "\t\ttry {\n",
        "\t\t\tsocket = new Socket(address, port);\n",
        "\t\t\tSystem.out.println(\"Connected\");\n",
        "\t\t\tSystem.out.println(\"Done with 1st program of DS\");\n",
        "\n",
        "\t\t\t// takes input from terminal\n",
        "\t\t\td = new BufferedReader(new InputStreamReader(System.in));\n",
        "\n",
        "\t\t\t// sends output to the socket\n",
        "\t\t\tout = new DataOutputStream(\n",
        "\t\t\t\tsocket.getOutputStream());\n",
        "\t\t}\n",
        "\t\tcatch (UnknownHostException u) {\n",
        "\t\t\tSystem.out.println(u);\n",
        "\t\t\treturn;\n",
        "\t\t}\n",
        "\t\tcatch (IOException i) {\n",
        "\t\t\tSystem.out.println(i);\n",
        "\t\t\treturn;\n",
        "\t\t}\n",
        "\n",
        "\t\t// string to read message from input\n",
        "\t\tString line = \"\";\n",
        "\n",
        "\t\t// keep reading until \"Over\" is input\n",
        "\t\twhile (!line.equals(\"Over\")) {\n",
        "\t\t\ttry {\n",
        "\t\t\t\tline = d.readLine();\n",
        "\t\t\t\tout.writeUTF(line);\n",
        "\t\t\t}\n",
        "\t\t\tcatch (IOException i) {\n",
        "\t\t\t\tSystem.out.println(i);\n",
        "\t\t\t}\n",
        "\t\t}\n",
        "\n",
        "\t\t// close the connection\n",
        "\t\ttry {\n",
        "\t\t\tinput.close();\n",
        "\t\t\tout.close();\n",
        "\t\t\tsocket.close();\n",
        "\t\t}\n",
        "\t\tcatch (IOException i) {\n",
        "\t\t\tSystem.out.println(i);\n",
        "\t\t}\n",
        "\t}\n",
        "\n",
        "\tpublic static void main(String args[])\n",
        "\t{\n",
        "\t\tClient client = new Client(\"127.0.0.1\", 5000);\n",
        "\t}\n",
        "}\n",
        "\n"
      ],
      "metadata": {
        "id": "onmqsRAyYhM7"
      },
      "execution_count": null,
      "outputs": []
    },
    {
      "cell_type": "markdown",
      "source": [
        "COMPILATION AND RUNNING PROCESS:\n",
        "\n",
        "\n",
        "On console1:\n",
        "Compile Server Application:\n",
        "1. javac Search.java\n",
        "2. javac SearchQuery.java\n",
        "3. rmic SearchQuery\n",
        "4. javac Server.java\n",
        "5. java Server'\n",
        "\n",
        "On console2:\n",
        "Compile Client Application:\n",
        "1.javac Client.java\n",
        "2.java Client\n"
      ],
      "metadata": {
        "id": "QGjxBfYDYtxI"
      }
    }
  ]
}