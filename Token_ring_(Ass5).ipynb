{
  "nbformat": 4,
  "nbformat_minor": 0,
  "metadata": {
    "colab": {
      "provenance": [],
      "authorship_tag": "ABX9TyPBggGCfdf+ORqiMtT6Cqeq",
      "include_colab_link": true
    },
    "kernelspec": {
      "name": "python3",
      "display_name": "Python 3"
    },
    "language_info": {
      "name": "python"
    }
  },
  "cells": [
    {
      "cell_type": "markdown",
      "metadata": {
        "id": "view-in-github",
        "colab_type": "text"
      },
      "source": [
        "<a href=\"https://colab.research.google.com/github/bhavika2222/LastBattle/blob/main/Token_ring_(Ass5).ipynb\" target=\"_parent\"><img src=\"https://colab.research.google.com/assets/colab-badge.svg\" alt=\"Open In Colab\"/></a>"
      ]
    },
    {
      "cell_type": "markdown",
      "source": [
        "Implement token ring based mutual exclusion algorithm.\n"
      ],
      "metadata": {
        "id": "EdXy1RmdCYD3"
      }
    },
    {
      "cell_type": "markdown",
      "source": [
        "save this code as tokenring.java"
      ],
      "metadata": {
        "id": "4XiAOiddCZRW"
      }
    },
    {
      "cell_type": "code",
      "source": [
        "import java.io.*;\n",
        "import java.util.*;\n",
        "class tokenring {\n",
        "public static void main(String args[]) throws Throwable {\n",
        "Scanner scan = new Scanner(System.in);\n",
        "System.out.println(\"Enter the num of nodes:\");\n",
        "int n = scan.nextInt();\n",
        "int m = n - 1;\n",
        "// Decides the number of nodes forming the ring\n",
        "int token = 0;\n",
        "int ch = 0, flag = 0;\n",
        "for (int i = 0; i < n; i++) {\n",
        "System.out.print(\" \" + i);\n",
        "}\n",
        "System.out.println(\" \" + 0);\n",
        "do{\n",
        "System.out.println(\"Enter sender:\");\n",
        "int s = scan.nextInt();\n",
        "System.out.println(\"Enter receiver:\");\n",
        "int r = scan.nextInt();\n",
        "System.out.println(\"Enter Data:\");\n",
        "int a;\n",
        "a = scan.nextInt();\n",
        "System.out.print(\"Token passing:\");\n",
        "for (int i = token, j = token; (i % n) != s; i++, j = (j + 1) % n) {\n",
        "System.out.print(\" \" + j + \"->\");\n",
        "}\n",
        "System.out.println(\" \" + s);\n",
        "System.out.println(\"Sender \" + s + \" sending data: \" + a);\n",
        "for (int i = s + 1; i != r; i = (i + 1) % n) {\n",
        "System.out.println(\"data \" + a + \" forwarded by \" + i);\n",
        "}\n",
        "System.out.println(\"Receiver \" + r + \" received data: \" + a +\"\\n\");\n",
        "token = s;\n",
        "do{\n",
        "try {\n",
        "if( flag == 1)\n",
        "System.out.print(\"Invalid Input!!...\");\n",
        "System.out.print(\"Do you want to send again?? enter 1 for Yes and 0 for No:\");\n",
        "ch = scan.nextInt();\n",
        "if( ch != 1 && ch != 0 )\n",
        "flag = 1;\n",
        "else\n",
        "flag = 0;\n",
        "} catch (InputMismatchException e){\n",
        "System.out.println(\"Invalid Input\");\n",
        "}\n",
        "}while( ch != 1 && ch != 0 );\n",
        "}while( ch == 1 );\n",
        "}\n",
        "}"
      ],
      "metadata": {
        "id": "AAX00O7CCrLK"
      },
      "execution_count": null,
      "outputs": []
    },
    {
      "cell_type": "markdown",
      "source": [
        "javac tokenring.java\n",
        "java tokenring"
      ],
      "metadata": {
        "id": "rpwDCvyoC7Ix"
      }
    }
  ]
}