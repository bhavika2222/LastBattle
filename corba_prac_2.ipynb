{
  "nbformat": 4,
  "nbformat_minor": 0,
  "metadata": {
    "colab": {
      "provenance": [],
      "toc_visible": true,
      "authorship_tag": "ABX9TyOZPjH6yw0BStCHyAPSUGFw",
      "include_colab_link": true
    },
    "kernelspec": {
      "name": "python3",
      "display_name": "Python 3"
    },
    "language_info": {
      "name": "python"
    }
  },
  "cells": [
    {
      "cell_type": "markdown",
      "metadata": {
        "id": "view-in-github",
        "colab_type": "text"
      },
      "source": [
        "<a href=\"https://colab.research.google.com/github/bhavika2222/LastBattle/blob/main/corba_prac_2.ipynb\" target=\"_parent\"><img src=\"https://colab.research.google.com/assets/colab-badge.svg\" alt=\"Open In Colab\"/></a>"
      ]
    },
    {
      "cell_type": "markdown",
      "source": [
        "Develop any distributed application using CORBA to demonstrate object brokering.\n",
        "(Calculator or String operations)."
      ],
      "metadata": {
        "id": "K3ncatDg5rQx"
      }
    },
    {
      "cell_type": "markdown",
      "source": [
        "Step 1:   create file Calc.idl\n"
      ],
      "metadata": {
        "id": "gNYxt5Ab5zGg"
      }
    },
    {
      "cell_type": "code",
      "source": [
        "module CalcApp\n",
        "{\n",
        "interface Calc\n",
        "{\n",
        "exception DivisionByZero {};\n",
        "float sum(in float a, in float b);\n",
        "float div(in float a, in float b) raises (DivisionByZero);\n",
        "float mul(in float a, in float b);\n",
        "float sub(in float a, in float b);\n",
        "};\n",
        "};\n"
      ],
      "metadata": {
        "id": "oaIqzZTC58mf"
      },
      "execution_count": null,
      "outputs": []
    },
    {
      "cell_type": "markdown",
      "source": [
        "Step 2:  create CalcServer.java"
      ],
      "metadata": {
        "id": "LJtldLL96DBZ"
      }
    },
    {
      "cell_type": "code",
      "source": [
        "import CalcApp.*;\n",
        "import CalcApp.CalcPackage.DivisionByZero;\n",
        "import org.omg.CosNaming.*;\n",
        "import org.omg.CosNaming.NamingContextPackage.*;\n",
        "import org.omg.CORBA.*;\n",
        "import org.omg.PortableServer.*;\n",
        "import java.util.Properties;\n",
        "\n",
        "class CalcImpl extends CalcPOA {\n",
        "@Override\n",
        "public float sum(float a, float b) {\n",
        "return a + b;\n",
        "}\n",
        "@Override\n",
        "public float div(float a, float b) throws DivisionByZero {\n",
        "if (b == 0) {\n",
        "throw new CalcApp.CalcPackage.DivisionByZero();\n",
        "} else {\n",
        "return a / b;\n",
        "}\n",
        "}\n",
        "@Override\n",
        "public float mul(float a, float b) {\n",
        "return a * b;\n",
        "}\n",
        "@Override\n",
        "public float sub(float a, float b) {\n",
        "return a - b;\n",
        "}\n",
        "private ORB orb;\n",
        "public void setORB(ORB orb_val) {\n",
        "orb = orb_val;\n",
        "}\n",
        "}\n",
        "public class CalcServer {\n",
        "public static void main(String args[]) {\n",
        "try {\n",
        "// create and initialize the ORB\n",
        "ORB orb = ORB.init(args, null);\n",
        "// get reference to rootpoa & activate the POAManager\n",
        "POA rootpoa = POAHelper.narrow(orb.resolve_initial_references(\"RootPOA\"));\n",
        "rootpoa.the_POAManager().activate();\n",
        "// create servant and register it with the ORB\n",
        "CalcImpl helloImpl = new CalcImpl();\n",
        "helloImpl.setORB(orb);\n",
        "// get object reference from the servant\n",
        "org.omg.CORBA.Object ref = rootpoa.servant_to_reference(helloImpl);\n",
        "Calc href = CalcHelper.narrow(ref);\n",
        "// get the root naming context\n",
        "// NameService invokes the name service\n",
        "org.omg.CORBA.Object objRef = orb.resolve_initial_references(\"NameService\");\n",
        "// Use NamingContextExt which is part of the Interoperable\n",
        "// Naming Service (INS) specification.\n",
        "NamingContextExt ncRef = NamingContextExtHelper.narrow(objRef);\n",
        "// bind the Object Reference in Naming\n",
        "String name = \"Calc\";\n",
        "NameComponent path[] = ncRef.to_name(name);\n",
        "ncRef.rebind(path, href);\n",
        "System.out.println(\"Ready..\");\n",
        "// wait for invocations from clients\n",
        "orb.run();\n",
        "} catch (Exception e) {\n",
        "System.err.println(\"ERROR: \" + e);\n",
        "e.printStackTrace(System.out);\n",
        "}\n",
        "System.out.println(\"Exiting ...\");\n",
        "}\n",
        "}\n"
      ],
      "metadata": {
        "id": "tus20YuV6NA2"
      },
      "execution_count": null,
      "outputs": []
    },
    {
      "cell_type": "markdown",
      "source": [
        "Step 3: Create CalcClient.java"
      ],
      "metadata": {
        "id": "PyxBBzZX6X4V"
      }
    },
    {
      "cell_type": "code",
      "source": [
        "import java.io.BufferedReader;\n",
        "import java.io.IOException;\n",
        "import java.io.InputStreamReader;\n",
        "import CalcApp.*;\n",
        "import CalcApp.CalcPackage.DivisionByZero;\n",
        "import org.omg.CosNaming.*;\n",
        "import org.omg.CosNaming.NamingContextPackage.*;\n",
        "import org.omg.CORBA.*;\n",
        "import static java.lang.System.out;\n",
        "public class CalcClient {\n",
        "static Calc calcImpl;\n",
        "static BufferedReader br = new BufferedReader(new InputStreamReader(System.in));\n",
        "public static void main(String args[]) {\n",
        "try {\n",
        "// create and initialize the ORB\n",
        "ORB orb = ORB.init(args, null);\n",
        "// get the root naming context\n",
        "org.omg.CORBA.Object objRef = orb.resolve_initial_references(\"NameService\");\n",
        "// Use NamingContextExt instead of NamingContext. This is\n",
        "// part of the Interoperable naming Service.\n",
        "NamingContextExt ncRef = NamingContextExtHelper.narrow(objRef);\n",
        "// resolve the Object Reference in Naming\n",
        "String name = \"Calc\";\n",
        "calcImpl = CalcHelper.narrow(ncRef.resolve_str(name));\n",
        "// System.out.println(calcImpl);\n",
        "while (true) {\n",
        "out.println(\"1. Sum\");\n",
        "out.println(\"2. Sub\");\n",
        "out.println(\"3. Mul\");\n",
        "out.println(\"4. Div\");\n",
        "out.println(\"5. exit\");\n",
        "out.println(\"--\");\n",
        "out.println(\"choice: \");\n",
        "try {\n",
        "String opt = br.readLine();\n",
        "if (opt.equals(\"5\")) {\n",
        "break;\n",
        "} else if (opt.equals(\"1\")) {\n",
        "out.println(\"a+b= \" + calcImpl.sum(getFloat(\"a\"), getFloat(\"b\")));\n",
        "} else if (opt.equals(\"2\")) {\n",
        "out.println(\"a-b= \" + calcImpl.sub(getFloat(\"a\"), getFloat(\"b\")));\n",
        "} else if (opt.equals(\"3\")) {\n",
        "out.println(\"a*b= \" + calcImpl.mul(getFloat(\"a\"), getFloat(\"b\")));\n",
        "} else if (opt.equals(\"4\")) {\n",
        "try {\n",
        "out.println(\"a/b= \" + calcImpl.div(getFloat(\"a\"), getFloat(\"b\")));\n",
        "} catch (DivisionByZero de) {\n",
        "out.println(\"Division by zero!!!\");\n",
        "}\n",
        "}\n",
        "} catch (Exception e) {\n",
        "out.println(\"===\");\n",
        "out.println(\"Error with numbers\");\n",
        "out.println(\"===\");\n",
        "}\n",
        "out.println(\"\");\n",
        "}\n",
        "//calcImpl.shutdown();\n",
        "} catch (Exception e) {\n",
        "System.out.println(\"ERROR : \" + e);\n",
        "e.printStackTrace(System.out);\n",
        "}\n",
        "}\n",
        "static float getFloat(String number) throws Exception {\n",
        "out.print(number + \": \");\n",
        "return Float.parseFloat(br.readLine());\n",
        "}\n",
        "}"
      ],
      "metadata": {
        "id": "ahLFriUO6dha"
      },
      "execution_count": null,
      "outputs": []
    },
    {
      "cell_type": "markdown",
      "source": [
        "At 1st Console\n",
        "1) idlj -fall Calc.idl\n",
        "2) javac .java CalcApp/.java   or javac -Xlint .java CalcApp/.java\n",
        "3) orbd -ORBInitialPort 1050&\n",
        "\n",
        "At 2nd Console\n",
        "1) javac CalcServer.java\n",
        "2) java CalcServer -ORBInitialPort 1050&\n",
        "\n",
        "At 3rd Console\n",
        "1) javac CalcClient.java\n",
        "2) java CalcClient -ORBInitialPort 1050"
      ],
      "metadata": {
        "id": "PdrPuFmD61Ad"
      }
    }
  ]
}